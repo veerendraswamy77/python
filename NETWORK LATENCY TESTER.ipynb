import socket
import time
import os

class LatencyTester:
    def __init__(self):
        self.results = {}  # Dictionary to store test results

    def perform_latency_test(self, host, port):
        try:
            # Create a socket object
            client_socket = socket.socket(socket.AF_INET, socket.SOCK_STREAM)
        
            # Set a timeout for the connection attempt (in seconds)
            client_socket.settimeout(5)
        
            # Get the start time
            start_time = time.time()
        
            # Connect to the server
            client_socket.connect((host, port))
        
            # Get the end time
            end_time = time.time()
        
            # Calculate the latency (in milliseconds)
            latency_ms = (end_time - start_time) * 1000
        
            return latency_ms
        except socket.timeout:
            # Connection attempt timed out
            return float('inf')
        except Exception as e:
            # Other exceptions (e.g., connection refused, host unreachable)
            print(f"Error: {e}")
            return None
        finally:
            # Close the socket
            client_socket.close()

    def record_test_result(self, result_id, latency):
        """
        Record the latency test result.
        
        Args:
            result_id (str): Identifier for the test result.
            latency (float): Latency measured in milliseconds.
        """
        self.results[result_id] = latency
        print(f"Test result recorded - ID: {result_id}, Latency: {latency} ms")

    def display_test_results(self):
        """
        Display all recorded test results.
        """
        if not self.results:
            print("No test results recorded yet.")
            return
        
        print("Recorded Test Results:")
        for result_id, latency in self.results.items():
            print(f"ID: {result_id}, Latency: {latency} ms")

    def create_data_file(self, host, port):
        """
        Create a data file to store the host and port.
        """
        with open("veer.txt", 'w') as file:
            file.write(f"Host: {host}\n")
            file.write(f"Port: {port}\n")

    def update_data_file(self, host, port):
        """
        Update the data file with new host and port.
        """
        self.create_data_file(host, port)

    def read_data_file(self):
        """
        Read the data file to get host and port.
        """
        try:
            with open("veer.txt", 'r') as file:
                lines = file.readlines()
                host = lines[0].split(": ")[1].strip()
                port = int(lines[1].split(": ")[1].strip())
                return host, port
        except FileNotFoundError:
            print("Data file not found.")
            return None, None
        except IndexError:
            print("Data file is corrupted.")
            return None, None

    def delete_data_file(self):
        """
        Delete the data file.
        """
        if os.path.exists("veer.txt"):
            os.remove("veer.txt")
            print("Data file deleted.")
        else:
            print("Data file does not exist.")

    def create_result_file(self, result_id, latency):
        """
        Create a result file to store the result.
        """
        with open("file1.txt", 'a') as file:
            file.write(f"Result ID: {result_id}\n")
            file.write(f"Latency: {latency} ms\n")

    def update_result_file(self, result_id, latency):
        """
        Update the result file with new result.
        """
        self.create_result_file(result_id, latency)

    def read_result_file(self):
        """
        Read the result file to get result.
        """
        try:
            with open("file1.txt", 'r') as file:
                lines = file.readlines()
                result_id = lines[-2].split(": ")[1].strip()
                latency = float(lines[-1].split(": ")[1].strip().split(" ")[0])
                return result_id, latency
        except FileNotFoundError:
            print("Result file not found.")
            return None, None
        except IndexError:
            print("Result file is corrupted.")
            return None, None

    def delete_result_file(self):
        """
        Delete the result file.
        """
        if os.path.exists("file1.txt"):
            os.remove("file1.txt")
            print("Result file deleted.")
        else:
            print("Result file does not exist.")

    def menu(self):
        """
        Display menu and take user input.
        """
        print("\nMenu:")
        print("1. Perform Latency Test")
        print("2. Display Test Results")
        print("3. Read Data File")
        print("4. Update Data File")
        print("5. Read Result File")
        print("6. Update Result File")
        print("7. Delete Data File")
        print("8. Delete Result File")
        print("0. Exit")

        choice = input("Enter your choice: ")

        if choice == '1':
            host, port = self.read_data_file()
            if host and port:
                result_id = input("Enter result ID: ")
                latency = self.perform_latency_test(host, port)
                self.record_test_result(result_id, latency)
                self.update_result_file(result_id, latency)
            else:
                print("No host and port found. Please update the data file.")

        elif choice == '2':
            self.display_test_results()

        elif choice == '3':
            data_host, data_port = self.read_data_file()
            if data_host and data_port:
                print(f"Data Host: {data_host}, Data Port: {data_port}")
  
        elif choice == '4':
            new_host = input("Enter new IP address: ")
            new_port = int(input("Enter new port number: "))
            self.update_data_file(new_host, new_port)

        elif choice == '5':
            result_id, result_latency = self.read_result_file()
            if result_id and result_latency:
                print(f"Result ID: {result_id}, Result Latency: {result_latency} ms")

        elif choice == '6':
            result_id = input("Enter result ID: ")
            result_latency = input("Enter result latency: ")
            self.update_result_file(result_id, result_latency)

        elif choice == '7':
            self.delete_data_file()

        elif choice == '8':
            self.delete_result_file()

        elif choice == '0':
            return

        else:
            print("Invalid choice. Please try again.")
            
        self.menu()

# Example usage:
if __name__ == "__main__":
    tester = LatencyTester()
    tester.menu()
