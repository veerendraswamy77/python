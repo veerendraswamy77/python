{
 "cells": [
  {
   "cell_type": "code",
   "execution_count": 35,
   "id": "f69443cc-71bb-436f-9c4a-88b1eb2b32ee",
   "metadata": {},
   "outputs": [
    {
     "name": "stdin",
     "output_type": "stream",
     "text": [
      " 3\n"
     ]
    },
    {
     "name": "stdout",
     "output_type": "stream",
     "text": [
      "3\n",
      "6\n",
      "9\n",
      "12\n",
      "15\n",
      "18\n",
      "21\n",
      "24\n",
      "27\n",
      "30\n"
     ]
    }
   ],
   "source": [
    "n=int(input())\n",
    "for i in range(1,11):\n",
    "    print(n*i)"
   ]
  },
  {
   "cell_type": "code",
   "execution_count": 30,
   "id": "4bde9ac3-b4dc-490d-acce-a097842805d6",
   "metadata": {},
   "outputs": [
    {
     "name": "stdin",
     "output_type": "stream",
     "text": [
      " 5\n"
     ]
    },
    {
     "name": "stdout",
     "output_type": "stream",
     "text": [
      "120\n"
     ]
    }
   ],
   "source": [
    "n=int(input())\n",
    "print(fact(n))\n",
    "def fact(n):\n",
    "    if n==0 or n==1:\n",
    "        return 1\n",
    "    else:\n",
    "        return n*fact(n-1)\n",
    "\n"
   ]
  },
  {
   "cell_type": "code",
   "execution_count": 46,
   "id": "f2494566-1075-4e75-8087-fdb868ef99f7",
   "metadata": {},
   "outputs": [
    {
     "name": "stdout",
     "output_type": "stream",
     "text": [
      "series\n",
      "5\n",
      "5\n",
      "5\n",
      "5\n",
      "5\n",
      "5\n",
      "5\n",
      "5\n",
      "5\n",
      "5\n"
     ]
    }
   ],
   "source": [
    "def fib(n):\n",
    "    if n==0 or n==1:\n",
    "        return n\n",
    "    else:\n",
    "        return fib(n-1)+fib(n-2)\n",
    "terms=10\n",
    "if terms<10:\n",
    "    print(\"enter num\")\n",
    "else:\n",
    "    print(\"series\")\n",
    "for i in range(terms):\n",
    "    print(fib(n))\n"
   ]
  },
  {
   "cell_type": "markdown",
   "id": "13b2d1b7-8aae-4956-99cc-33ad82fcaa47",
   "metadata": {},
   "source": [
    "#quick sort\n",
    "\n",
    "                                                                                                                                                                 "
   ]
  },
  {
   "cell_type": "code",
   "execution_count": 51,
   "id": "555f00df-30c4-4ca3-a150-6269d8dd3c2c",
   "metadata": {},
   "outputs": [
    {
     "name": "stdout",
     "output_type": "stream",
     "text": [
      "[2, 3, 5, 7, 284, 290, 996, 10000, 189949]\n"
     ]
    }
   ],
   "source": [
    "#quick sort\n",
    "\n",
    "def findpi(ar,low,high):\n",
    "    pe=ar[high]\n",
    "    j=low-1\n",
    "    for i in range(low,high):\n",
    "        if pe>ar[i]:\n",
    "            j+=1\n",
    "            ar[i],ar[j]=ar[j],ar[i]\n",
    "    ar[high],ar[j+1]=ar[j+1],ar[high]\n",
    "    return j+1\n",
    "\n",
    "def quicksort(ar,low,high):\n",
    "    if low<high:\n",
    "        pi=findpi(ar,low,high)\n",
    "        quicksort(ar,low,pi-1)\n",
    "        quicksort(ar,pi+1,high)\n",
    "\n",
    "ar=[3,5,7,2,290,284,996,10000,189949]\n",
    "quicksort(ar,0,len(ar)-1)\n",
    "print(ar)"
   ]
  },
  {
   "cell_type": "code",
   "execution_count": 1,
   "id": "cc963682-8007-427e-8f6f-bfde890e4ae4",
   "metadata": {},
   "outputs": [],
   "source": [
    "#linked list\n",
    "\n",
    "class node:\n",
    "    def __init__(self,value):\n",
    "        self.data=value\n",
    "        self.next=None\n",
    "a=node(\"veer\")\n",
    "b=node(\"swam\")\n",
    "c=node(\"jkk\")\n",
    "d=node(\"heuhg\")\n",
    "\n",
    "head=a\n"
   ]
  },
  {
   "cell_type": "code",
   "execution_count": 4,
   "id": "b0593490-6947-47fa-9e49-12ba55d18b9f",
   "metadata": {},
   "outputs": [
    {
     "name": "stdout",
     "output_type": "stream",
     "text": [
      "node1 <__main__.node object at 0x00000228A70144A0> 1\n",
      "node1 <__main__.node object at 0x00000228A704F9E0> 2\n",
      "node1 <__main__.node object at 0x00000228A704FB60> 3\n",
      "node1 <__main__.node object at 0x00000228A704FD70> 4\n"
     ]
    }
   ],
   "source": [
    "class node:                                                                                                                 \n",
    "    def __init__(self,value):\n",
    "        self.data=value\n",
    "        self.next=None\n",
    "head=node(1)\n",
    "head.next=node(2)\n",
    "head.next.next=node(3)\n",
    "head.next.next.next=node(4)\n",
    "\n",
    "print(\"node1\",head,head.data)\n",
    "print(\"node1\",head.next,head.next.data)\n",
    "print(\"node1\",head.next.next,head.next.next.data)\n",
    "print(\"node1\",head.next.next.next,head.next.next.next.data)\n"
   ]
  },
  {
   "cell_type": "code",
   "execution_count": 12,
   "id": "f14d4068-7c60-44ed-a800-c8d3a1f9de81",
   "metadata": {},
   "outputs": [
    {
     "name": "stdin",
     "output_type": "stream",
     "text": [
      " hi \n",
      " snap \n",
      " user's\n"
     ]
    },
    {
     "name": "stdout",
     "output_type": "stream",
     "text": [
      "hi \n",
      "snap \n",
      "user's\n"
     ]
    }
   ],
   "source": [
    "class node:                                                                                                                 \n",
    "    def __init__(self,value):\n",
    "        self.data=value\n",
    "        self.next=None\n",
    "head=node(input())\n",
    "head.next=node(input())\n",
    "head.next.next=node(input())\n",
    "\n",
    "print(head.data)\n",
    "print(head.next.data)\n",
    "print(head.next.next.data)\n",
    "\n",
    "\n"
   ]
  },
  {
   "cell_type": "code",
   "execution_count": null,
   "id": "937a7466-8236-4ceb-98a6-c8dd73fdc9dc",
   "metadata": {},
   "outputs": [],
   "source": []
  }
 ],
 "metadata": {
  "kernelspec": {
   "display_name": "Python 3 (ipykernel)",
   "language": "python",
   "name": "python3"
  },
  "language_info": {
   "codemirror_mode": {
    "name": "ipython",
    "version": 3
   },
   "file_extension": ".py",
   "mimetype": "text/x-python",
   "name": "python",
   "nbconvert_exporter": "python",
   "pygments_lexer": "ipython3",
   "version": "3.12.3"
  }
 },
 "nbformat": 4,
 "nbformat_minor": 5
}
