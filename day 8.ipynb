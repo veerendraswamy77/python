{
 "cells": [
  {
   "cell_type": "code",
   "execution_count": 1,
   "id": "6ae8bd8b-163f-4e3a-824b-664ffdae41d9",
   "metadata": {},
   "outputs": [
    {
     "name": "stdin",
     "output_type": "stream",
     "text": [
      "enter the elements 5\n",
      " 5\n",
      " 4\n",
      " 3\n",
      " 2\n",
      " 1\n"
     ]
    },
    {
     "name": "stdout",
     "output_type": "stream",
     "text": [
      "[1, 2, 3, 4, 5]\n"
     ]
    }
   ],
   "source": [
    "#insertion sort\n",
    "l=[]\n",
    "n=int(input(\"enter the elements\"))\n",
    "for x in range (0,n):\n",
    "    e=int(input())\n",
    "    l.append(e)\n",
    "for  i in range(1,len(l)):\n",
    "    temp=l[i]\n",
    "    j=i-1\n",
    "    while j>=0 and temp<l[j]:\n",
    "        l[j+1]=l[j]\n",
    "        j-=1\n",
    "    l[j+1]=temp\n",
    "print(l)        \n",
    "\n",
    "        "
   ]
  },
  {
   "cell_type": "code",
   "execution_count": 1,
   "id": "f8ff769a-b3a5-4dad-95d1-2a5f410c9919",
   "metadata": {},
   "outputs": [
    {
     "name": "stdin",
     "output_type": "stream",
     "text": [
      " this  is (a) car\n"
     ]
    },
    {
     "name": "stdout",
     "output_type": "stream",
     "text": [
      "valid\n"
     ]
    }
   ],
   "source": [
    "st=input()\n",
    "x=y=z=0\n",
    "for c in st:\n",
    "    match (c):\n",
    "        case '(':x+=1\n",
    "        case ')':x-=1\n",
    "        case '{':y+=1\n",
    "        case '}':y-=1\n",
    "        case '[':z+=1\n",
    "        case ']':z-=1\n",
    "        case _: continue\n",
    "if x+y+z==0:\n",
    "    print(\"valid\")\n",
    "else:\n",
    "    print(\"invalid\")\n",
    "        "
   ]
  },
  {
   "cell_type": "code",
   "execution_count": 21,
   "id": "8d637161-dbe3-41eb-9227-7f276609c891",
   "metadata": {},
   "outputs": [
    {
     "name": "stdout",
     "output_type": "stream",
     "text": [
      "item added to stack\n",
      "item added to stack\n",
      "item added to stack\n",
      "item added to stack\n",
      "[2, 3, 7, 9]\n",
      "item removed\n",
      "[2, 3, 7]\n"
     ]
    }
   ],
   "source": [
    "def add(e):\n",
    "    s.append(e)\n",
    "    print(\"item added to stack\")\n",
    "\n",
    "def delete():\n",
    "    s.pop()\n",
    "    print(\"item removed\")\n",
    "s=[]\n",
    "add(2)\n",
    "add(3)\n",
    "add(7)\n",
    "add(9)\n",
    "print(s)\n",
    "\n",
    "delete()\n",
    "print(s)\n"
   ]
  },
  {
   "cell_type": "code",
   "execution_count": 23,
   "id": "113b0e4e-1a51-417c-8bde-a8cfa16d4f46",
   "metadata": {},
   "outputs": [
    {
     "name": "stdout",
     "output_type": "stream",
     "text": [
      "item added to stack\n",
      "item added to stack\n",
      "item added to stack\n",
      "item added to stack\n",
      "[2, 3, 7, 9]\n"
     ]
    },
    {
     "ename": "NameError",
     "evalue": "name 'remove' is not defined",
     "output_type": "error",
     "traceback": [
      "\u001b[1;31m---------------------------------------------------------------------------\u001b[0m",
      "\u001b[1;31mNameError\u001b[0m                                 Traceback (most recent call last)",
      "Cell \u001b[1;32mIn[23], line 15\u001b[0m\n\u001b[0;32m     12\u001b[0m add(\u001b[38;5;241m9\u001b[39m)\n\u001b[0;32m     13\u001b[0m \u001b[38;5;28mprint\u001b[39m(s)\n\u001b[1;32m---> 15\u001b[0m \u001b[43mremove\u001b[49m()\n\u001b[0;32m     16\u001b[0m \u001b[38;5;28mprint\u001b[39m(s)\n",
      "\u001b[1;31mNameError\u001b[0m: name 'remove' is not defined"
     ]
    }
   ],
   "source": [
    "def add(e):\n",
    "    s.append(e)\n",
    "    print(\"item added to stack\")\n",
    "\n",
    "def delete():\n",
    "    s.remove()\n",
    "    print(\"item removed\")\n",
    "s=[]\n",
    "add(2)\n",
    "add(3)\n",
    "add(7)\n",
    "add(9)\n",
    "print(s)\n",
    "\n",
    "remove()\n",
    "print(s)"
   ]
  },
  {
   "cell_type": "code",
   "execution_count": null,
   "id": "21dc581f-5333-480d-a539-0689f4bdd9db",
   "metadata": {},
   "outputs": [],
   "source": []
  }
 ],
 "metadata": {
  "kernelspec": {
   "display_name": "Python 3 (ipykernel)",
   "language": "python",
   "name": "python3"
  },
  "language_info": {
   "codemirror_mode": {
    "name": "ipython",
    "version": 3
   },
   "file_extension": ".py",
   "mimetype": "text/x-python",
   "name": "python",
   "nbconvert_exporter": "python",
   "pygments_lexer": "ipython3",
   "version": "3.12.3"
  }
 },
 "nbformat": 4,
 "nbformat_minor": 5
}
