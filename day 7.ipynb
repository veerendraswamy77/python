{
 "cells": [
  {
   "cell_type": "markdown",
   "id": "50f06696-f30b-439f-a14c-92903a43011c",
   "metadata": {},
   "source": [
    "#DSA\n",
    "collection of data in ordinary manner \n",
    "Time complexity :the time taken to complete a computer depends on repetavive donr by the program this way the time complexity depend,it depends on the no of irreitative done by the program\\\n",
    "  there are three types of \n",
    "    thetta notation:average case or besst case\n",
    "    big o\n",
    "    omega :\n",
    "constant time : o(1)\n",
    "linear :o(n)\n",
    "quadratic:n^2\n",
    "exponential:o(n^m)\n",
    "factorial is biggest time complexity :o(n!) \n",
    " optimal solution: ex :n^2 to n \n",
    "space complexity:\n",
    "constant space-1\n",
    "linear space- copy n\n",
    "\n",
    "\n"
   ]
  },
  {
   "cell_type": "code",
   "execution_count": 24,
   "id": "16c24b59-6056-4e37-89b6-684913fe489e",
   "metadata": {},
   "outputs": [
    {
     "name": "stdout",
     "output_type": "stream",
     "text": [
      "24\n"
     ]
    }
   ],
   "source": [
    "#calculting time complexity\n",
    "#find the maximum sum of any 3 consecutive elements od the list\n",
    "l=[1,3,4,5,6,6,7,6,8,7,6,6,6]\n",
    "x=0\n",
    "\n",
    "for p in range(len(l)):\n",
    "    for q in range(len(l)):\n",
    "        for r in range(len(l)):\n",
    "            if x<l[p]+l[q]+l[r]:\n",
    "                \n",
    "               x=l[p]+l[q]+l[r]\n",
    "print(x)\n",
    "            \n",
    "\n"
   ]
  },
  {
   "cell_type": "code",
   "execution_count": 25,
   "id": "7d83c7e3-490f-42dc-b598-daa8a387f3e5",
   "metadata": {},
   "outputs": [
    {
     "name": "stdout",
     "output_type": "stream",
     "text": [
      "21\n"
     ]
    }
   ],
   "source": [
    "l=[1,2,3,4,5,6,7,8]\n",
    "s=0\n",
    "for x in range(0,len(l)-2):\n",
    "    s=l[x]+l[x+1]+l[x+2]\n",
    "    if(s<x):\n",
    "        s=x\n",
    "print(s)"
   ]
  },
  {
   "cell_type": "code",
   "execution_count": 53,
   "id": "dfe58013-6f1f-4891-851c-57df6e1d439c",
   "metadata": {},
   "outputs": [
    {
     "name": "stdin",
     "output_type": "stream",
     "text": [
      "enter the consective terms 5\n"
     ]
    },
    {
     "name": "stdout",
     "output_type": "stream",
     "text": [
      "35\n"
     ]
    }
   ],
   "source": [
    "l=[1,4,5,6,7,8,9,0,3,4,6,6,6,7,2]\n",
    "i=int(input(\"enter the consective terms\"))\n",
    "s=0\n",
    "for x in range(0,len(l)-i):\n",
    "    so=0\n",
    "    for j in range(x,x+i):\n",
    "        so+=l[j]\n",
    "    if(s<so):\n",
    "        s=so\n",
    "print(s)\n"
   ]
  },
  {
   "cell_type": "code",
   "execution_count": 61,
   "id": "e0fb1a0c-9eb7-48cb-b69e-49190b6fbc3a",
   "metadata": {},
   "outputs": [
    {
     "name": "stdin",
     "output_type": "stream",
     "text": [
      "enter the consective terms 5\n"
     ]
    },
    {
     "name": "stdout",
     "output_type": "stream",
     "text": [
      "47\n"
     ]
    }
   ],
   "source": [
    "l=[1,4,5,6,7,8,9,0,3,4,6,6,6,7,2]\n",
    "i=int(input(\"enter the consective terms\"))\n",
    "s=0\n",
    "so=0\n",
    "for x in range(0,len(l)-i):\n",
    "    \n",
    "    so+=l[x]\n",
    "    if(s<so): \n",
    "     s=so\n",
    "print(s)\n"
   ]
  },
  {
   "cell_type": "code",
   "execution_count": 18,
   "id": "462ab31c-4460-4149-9202-255d3d3b5158",
   "metadata": {},
   "outputs": [
    {
     "name": "stdout",
     "output_type": "stream",
     "text": [
      "[3, 2, 5, 67, 78, 5748]\n"
     ]
    }
   ],
   "source": [
    "l=[3,5,2,67,5748,78]\n",
    "for i in range(0,len(l)-1):\n",
    "    if l[i]>=l[i+1]:\n",
    "        temp=l[i]\n",
    "        l[i]=l[i+1] \n",
    "        l[i+1]=temp\n",
    "print(l)\n"
   ]
  },
  {
   "cell_type": "code",
   "execution_count": 6,
   "id": "fffa4e43-0687-49be-9ff3-b25be3fac4fb",
   "metadata": {},
   "outputs": [
    {
     "name": "stdout",
     "output_type": "stream",
     "text": [
      "[4, 3, 2, 1, 5]\n"
     ]
    }
   ],
   "source": [
    "l=[5,4,3,2,1]\n",
    "for j in range(0,len(l)):\n",
    "    for i in range(0,len(l)-1):\n",
    "        if l[i]>l[i+1]:\n",
    "            temp=l[i]\n",
    "            l[i]=l[i+1]\n",
    "            l[i+1]=temp\n",
    "print(l)"
   ]
  },
  {
   "cell_type": "markdown",
   "id": "1931ddec-d43a-457a-bc71-553c586ab472",
   "metadata": {},
   "source": [
    "Insertion sort\n",
    " "
   ]
  },
  {
   "cell_type": "code",
   "execution_count": 9,
   "id": "8fd8738b-7153-4c70-8c85-f80b45a39f67",
   "metadata": {},
   "outputs": [
    {
     "name": "stdin",
     "output_type": "stream",
     "text": [
      "enter the elements 5\n",
      " 5\n",
      " 4\n",
      " 2\n",
      " 67\n",
      " 89\n"
     ]
    },
    {
     "name": "stdout",
     "output_type": "stream",
     "text": [
      "[2, 4, 5, 67, 89]\n"
     ]
    }
   ],
   "source": [
    "#insertion sort\n",
    "l=[]\n",
    "n=int(input(\"enter the elements\"))\n",
    "for x in range (0,n):\n",
    "    e=int(input())\n",
    "    l.append(e)\n",
    "for  i in range(1,len(l)):\n",
    "    temp=l[i]\n",
    "    j=i-1\n",
    "    while j>=0 and temp<l[j]:\n",
    "        l[j+1]=l[j]\n",
    "        j-=1\n",
    "    l[j+1]=temp\n",
    "print(l)        \n",
    "\n",
    "        "
   ]
  },
  {
   "cell_type": "markdown",
   "id": "5a0f49bc-faef-4111-9df4-8799bca39f73",
   "metadata": {},
   "source": [
    "selection sort:\n",
    " swap\n",
    " slect a minimum element and swap the place \n",
    " loop to reduce the list\n",
    " loop to find min\n",
    " swap a[i],a[pos_min]\n",
    " \n",
    " \n"
   ]
  },
  {
   "cell_type": "code",
   "execution_count": 13,
   "id": "23689038-a3c0-4f27-b1aa-1691721541d9",
   "metadata": {},
   "outputs": [
    {
     "name": "stdin",
     "output_type": "stream",
     "text": [
      "enter the elements 5\n",
      " 5\n",
      " 8\n",
      " 90\n",
      " 100\n",
      " 110\n"
     ]
    },
    {
     "name": "stdout",
     "output_type": "stream",
     "text": [
      "[5, 8, 90, 100, 110]\n"
     ]
    }
   ],
   "source": [
    "#selection sort\n",
    "l=[]\n",
    "n=int(input(\"enter the elements\"))\n",
    "for x in range (0,n): \n",
    "    e=int(input())\n",
    "    l.append(e)\n",
    "for i in range(0,len(l)):\n",
    "    index=i\n",
    "    for j in range(i+1,len(l)):\n",
    "        if l[index]>l[j]:\n",
    "            index=j\n",
    "    temp=l[i]\n",
    "    l[i]=l[index] \n",
    "    l[index]=temp\n",
    "print(l)"
   ]
  },
  {
   "cell_type": "code",
   "execution_count": null,
   "id": "22521cb5-58a2-4d3b-9561-5fbb96e6d1cd",
   "metadata": {},
   "outputs": [],
   "source": [
    "s=input().split()\n",
    "\n",
    "for i in range(i,len(s)):\n",
    "    for j in range():\n",
    "        if s=='(' or s==')':\n",
    "            print(\"valid\")\n",
    "        elif s=='{' or s=='}':\n",
    "            print(\"valid\")\n",
    "        elif s=='[' or s==']':\n",
    "            print(\"valid\")\n",
    "else:\n",
    "    print(\"invalid\")"
   ]
  },
  {
   "cell_type": "code",
   "execution_count": null,
   "id": "369ffa8c-bb8d-4f92-9659-febd42b9cac1",
   "metadata": {},
   "outputs": [],
   "source": []
  },
  {
   "cell_type": "code",
   "execution_count": null,
   "id": "126a9784-3798-40ef-b371-c6a355a23062",
   "metadata": {},
   "outputs": [],
   "source": []
  }
 ],
 "metadata": {
  "kernelspec": {
   "display_name": "Python 3 (ipykernel)",
   "language": "python",
   "name": "python3"
  },
  "language_info": {
   "codemirror_mode": {
    "name": "ipython",
    "version": 3
   },
   "file_extension": ".py",
   "mimetype": "text/x-python",
   "name": "python",
   "nbconvert_exporter": "python",
   "pygments_lexer": "ipython3",
   "version": "3.12.3"
  }
 },
 "nbformat": 4,
 "nbformat_minor": 5
}
