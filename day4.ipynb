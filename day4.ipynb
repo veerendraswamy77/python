{
 "cells": [
  {
   "cell_type": "code",
   "execution_count": 1,
   "id": "c0dacf37-42e6-4de7-8da5-8bad22a91531",
   "metadata": {},
   "outputs": [
    {
     "name": "stdin",
     "output_type": "stream",
     "text": [
      " 121\n"
     ]
    },
    {
     "name": "stdout",
     "output_type": "stream",
     "text": [
      "not palindrome\n"
     ]
    }
   ],
   "source": [
    "#palindrome\n",
    "n=int(input())\n",
    "m=n\n",
    "rev=0\n",
    "while n>0:\n",
    "    rem=n%10\n",
    "    rev=rev*10+rem\n",
    "    n=n/10\n",
    "if m==rev:\n",
    "    print(\"palindrome\")\n",
    "else:\n",
    "    print(\"not palindrome\")"
   ]
  },
  {
   "cell_type": "code",
   "execution_count": 2,
   "id": "39e3ab50-4c27-4e45-b40a-60dd8ce97a09",
   "metadata": {},
   "outputs": [
    {
     "name": "stdout",
     "output_type": "stream",
     "text": [
      "[1, 2, 3, 4, 5]\n"
     ]
    }
   ],
   "source": [
    "a=[3,1,4,2,5]\n",
    "for i in range(len(a)):\n",
    "    for j in range(i+1,len(a)):\n",
    "        if a[i]>a[j]:\n",
    "            a[i],a[j]=a[j],a[i]\n",
    "print(a)"
   ]
  },
  {
   "cell_type": "code",
   "execution_count": 3,
   "id": "3d6d8427-d642-473e-91d9-4545e7630a4f",
   "metadata": {},
   "outputs": [
    {
     "name": "stdout",
     "output_type": "stream",
     "text": [
      "\n",
      "233\n"
     ]
    }
   ],
   "source": [
    "import os\n",
    "with open(\"file1.txt\",'r')as f:\n",
    "    for a in f.read().split(\"\\n\"):\n",
    "        print(a)\n",
    "        print(\"233\")\n",
    "    f.close()"
   ]
  },
  {
   "cell_type": "code",
   "execution_count": 4,
   "id": "de64d58f-a26e-46de-a63c-1431fec6f586",
   "metadata": {},
   "outputs": [],
   "source": [
    "import os\n",
    "with open(\"file2.txt\", 'w') as f:\n",
    "    f.write(\"hello\")\n",
    "    f.close()\n",
    "with open(\"file2.txt\",'a') as f:\n",
    "    f.write(\"file is appending\")   \n",
    "    f.close()\n"
   ]
  },
  {
   "cell_type": "code",
   "execution_count": 5,
   "id": "856cf3f2-5978-40c3-a971-40ca4ad276a5",
   "metadata": {},
   "outputs": [
    {
     "name": "stdin",
     "output_type": "stream",
     "text": [
      "enter the temp deg in celsius 25\n"
     ]
    },
    {
     "name": "stdout",
     "output_type": "stream",
     "text": [
      "the Fahrenheit is  : 77.0\n"
     ]
    }
   ],
   "source": [
    "c=int(input(\"enter the temp deg in celsius\"))\n",
    "f=(c*9/5)+32\n",
    "print(\"the Fahrenheit is  :\",f)"
   ]
  },
  {
   "cell_type": "code",
   "execution_count": null,
   "id": "e2b226d6-bf99-4d35-9301-5d9b85c19ed0",
   "metadata": {},
   "outputs": [],
   "source": []
  }
 ],
 "metadata": {
  "kernelspec": {
   "display_name": "Python 3 (ipykernel)",
   "language": "python",
   "name": "python3"
  },
  "language_info": {
   "codemirror_mode": {
    "name": "ipython",
    "version": 3
   },
   "file_extension": ".py",
   "mimetype": "text/x-python",
   "name": "python",
   "nbconvert_exporter": "python",
   "pygments_lexer": "ipython3",
   "version": "3.12.3"
  }
 },
 "nbformat": 4,
 "nbformat_minor": 5
}
