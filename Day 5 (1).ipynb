{
 "cells": [
  {
   "cell_type": "markdown",
   "id": "e40d4b12-d352-4c0a-a06f-a3b700f2b8fe",
   "metadata": {},
   "source": [
    "oops concept"
   ]
  },
  {
   "cell_type": "code",
   "execution_count": 5,
   "id": "02542e9d-0d9f-49f8-a2cc-b65ba2cea9c4",
   "metadata": {},
   "outputs": [
    {
     "name": "stdout",
     "output_type": "stream",
     "text": [
      "8 gb ram\n",
      "0\n"
     ]
    }
   ],
   "source": [
    "class laptop:\n",
    "    a=0\n",
    "   \n",
    "    def config(self):\n",
    "        print(\"8 gb ram\")\n",
    "asus=laptop()\n",
    "asus.config()\n",
    "print(asus.a)"
   ]
  },
  {
   "cell_type": "code",
   "execution_count": 10,
   "id": "328258a0-ebbc-432c-b94d-36b8985793fc",
   "metadata": {},
   "outputs": [
    {
     "name": "stdout",
     "output_type": "stream",
     "text": [
      "0\n",
      "20\n"
     ]
    }
   ],
   "source": [
    "class laptop:\n",
    "    a=0\n",
    "    def config(self):\n",
    "        print(\"8 gb ram\") \n",
    "    def __init__(self,value):\n",
    "        self.b=value\n",
    "asus=laptop(20)\n",
    "print(asus.a)\n",
    "print(asus.b)"
   ]
  },
  {
   "cell_type": "code",
   "execution_count": 28,
   "id": "f914c42b-4cac-4566-ad25-2b07f4f30f0a",
   "metadata": {},
   "outputs": [
    {
     "name": "stdout",
     "output_type": "stream",
     "text": [
      "processor ryzen\n",
      "ram 30\n",
      "storage: 4\n"
     ]
    }
   ],
   "source": [
    "class laptop:\n",
    "    a=0\n",
    "    def __init__(self, processor, ram, storage):\n",
    "        self.processor = processor\n",
    "        self.ram = ram\n",
    "        self.storage = storage\n",
    "\n",
    "    def config(self):\n",
    "        print(\"processor\", self.processor)\n",
    "        print(\"ram\", self.ram)\n",
    "        print(\"storage:\", self.storage)\n",
    "\n",
    "if __name__==\"__main__\":\n",
    "    asus=laptop(\"ryzen\",30,4)\n",
    "    asus.config()\n",
    "\n",
    "\n"
   ]
  },
  {
   "cell_type": "markdown",
   "id": "2659e181-115d-40d3-b031-db74ae79bd45",
   "metadata": {},
   "source": [
    "create a class student which can hold the marks in 5 sub and also create a function to print the marks and calculate the average of 5 subjects\n",
    "class student:\n",
    "    "
   ]
  },
  {
   "cell_type": "code",
   "execution_count": 48,
   "id": "8abbce23-2404-43cf-87ca-a792f81e5033",
   "metadata": {},
   "outputs": [
    {
     "name": "stdout",
     "output_type": "stream",
     "text": [
      "maths 100\n",
      "english 100\n",
      "social 100\n",
      "hindi 100\n",
      "science 100\n",
      "average 100.0\n"
     ]
    }
   ],
   "source": [
    "class student:\n",
    "    a=0\n",
    "    def __init__(self,s1,s2,s3,s4,s5):\n",
    "        self.maths=s1\n",
    "        self.eng=s2\n",
    "        self.social=s3\n",
    "        self.hindi=s4\n",
    "        self.science=s5\n",
    "    def config(self):\n",
    "        print(\"maths\",self.maths)\n",
    "        print(\"english\",self.eng)\n",
    "        print(\"social\",self.social)\n",
    "        print(\"hindi\",self.hindi)\n",
    "        print(\"science\",self.science)\n",
    "    \n",
    "    def avg(self):\n",
    "        x=((self.maths+self.eng+self.social+self.hindi+self.science)/5)\n",
    "        print(\"average\",x)\n",
    "if __name__==\"__main__\":\n",
    "    y=student(100,100,100,100,100)\n",
    "    y.config()\n",
    "    \n",
    "    y.avg()\n",
    "    "
   ]
  },
  {
   "cell_type": "markdown",
   "id": "ab370555-4a46-49e8-bf85-6f6f17ae2d03",
   "metadata": {},
   "source": [
    "acess modifiers\n",
    "public - normal\n",
    "protected - _\n",
    "private- __"
   ]
  },
  {
   "cell_type": "code",
   "execution_count": null,
   "id": "549fab08-3ace-4b19-96a3-39b566af9727",
   "metadata": {},
   "outputs": [],
   "source": [
    "class demo\n",
    "    def __init__(self,a,b,c):\n",
    "        self.x=a\n",
    "        self._y=b\n",
    "        self.__z=c\n",
    "        "
   ]
  },
  {
   "cell_type": "code",
   "execution_count": 4,
   "id": "bcfe7945-a577-4864-ad01-cab37fad7630",
   "metadata": {},
   "outputs": [
    {
     "name": "stdout",
     "output_type": "stream",
     "text": [
      "this is fun1\n",
      "this is fun2\n",
      "this is fun3\n",
      "this is fun4\n"
     ]
    }
   ],
   "source": [
    "class a:\n",
    "    def fun1(self):\n",
    "        print(\"this is fun1\")\n",
    "    def fun2(self):\n",
    "        print(\"this is fun2\")\n",
    "class b:\n",
    "     def fun3(self):\n",
    "        print(\"this is fun3\")\n",
    "     def fun4(self):\n",
    "        print(\"this is fun4\")\n",
    "if __name__==\"__main__\":\n",
    "    ob1=a()\n",
    "    ob2=b()\n",
    "    ob1.fun1()\n",
    "    ob1.fun2()\n",
    "    ob2.fun3()\n",
    "    ob2.fun4()\n",
    "    \n",
    "    "
   ]
  },
  {
   "cell_type": "code",
   "execution_count": 6,
   "id": "7aacc00e-81ea-4f91-8abf-d39d68e24979",
   "metadata": {},
   "outputs": [
    {
     "name": "stdout",
     "output_type": "stream",
     "text": [
      "this is fun1\n",
      "this is fun2\n",
      "this is fun2\n",
      "this is fun4\n"
     ]
    }
   ],
   "source": [
    "class a:\n",
    "    def fun1(self):\n",
    "        print(\"this is fun1\")\n",
    "    def fun2(self):\n",
    "        print(\"this is fun2\")\n",
    "class b(a):\n",
    "     def fun3(self):\n",
    "        print(\"this is fun3\")\n",
    "     def fun4(self):\n",
    "        print(\"this is fun4\")\n",
    "if __name__==\"__main__\":\n",
    "    ob1=a()\n",
    "    ob2=b()\n",
    "    ob1.fun1()\n",
    "    ob1.fun2()\n",
    "    ob2.fun2()\n",
    "    ob2.fun4()"
   ]
  },
  {
   "cell_type": "code",
   "execution_count": 10,
   "id": "d816e958-86e6-41ed-b1a9-f2c4d504469e",
   "metadata": {},
   "outputs": [
    {
     "name": "stdout",
     "output_type": "stream",
     "text": [
      "constructor\n",
      "<class '__main__.a'> <class '__main__.b'>\n"
     ]
    }
   ],
   "source": [
    "class c:\n",
    "    def __init__(self):\n",
    "        print(\"constructor\")\n",
    "        self.x=a\n",
    "        self.y=b\n",
    "        print(self.x,self.y)\n",
    "        \n",
    "ob=c()\n"
   ]
  },
  {
   "cell_type": "code",
   "execution_count": 29,
   "id": "8d39b069-3514-4b1d-870d-65cffa087aaf",
   "metadata": {},
   "outputs": [
    {
     "name": "stdout",
     "output_type": "stream",
     "text": [
      "profii 512 5000 ram itel 8\n",
      "gaminglaptop ryzen 12 512 nevdia\n"
     ]
    }
   ],
   "source": [
    "class laptop:\n",
    "    def __init__(self,process,ram,storage):\n",
    "        self.process=process\n",
    "        self.ram=ram\n",
    "        self.storage=storage\n",
    "\n",
    "class profeesionallaptop(laptop):\n",
    "    def __init__(self,battery,backup,process,ram,storage):\n",
    "        self.battery=battery\n",
    "        self.backup=backup\n",
    "        super().__init__(process,ram,storage)\n",
    "class gaminglaptop(laptop):\n",
    "    def __init__(self,process,ram,storage,gc):\n",
    "        self.graphiccard=gc\n",
    "        super().__init__(process,ram,storage)\n",
    "\n",
    "pro=profeesionallaptop(\"itel\",8,512,5000,\"ram\")\n",
    "gm=gaminglaptop(\"ryzen\",12,512,\"nevdia\")\n",
    "print(\"profii\",pro.process,pro.ram,pro.storage,pro.battery,pro.backup)\n",
    "print(\"gaminglaptop\",gm.process,gm.ram,gm.storage,gm.graphiccard)\n"
   ]
  },
  {
   "cell_type": "code",
   "execution_count": 1,
   "id": "5dffe041-9569-472f-9ae9-a153f676a153",
   "metadata": {},
   "outputs": [],
   "source": [
    "class ticket:\n",
    "     def __init__(self,s,d,date,name):\n",
    "         self.source=s\n",
    "         self.destination=d\n",
    "         self.date=date\n",
    "         self.name=name\n",
    "class general(ticket):\n",
    "     def __init__(dis):\n",
    "         price=dis*2+50\n",
    "         return price\n",
    "class first:\n",
    "      def __init__(dis):\n",
    "         price=dis+50\n",
    "         return price\n",
    "   \n",
    "                 "
   ]
  },
  {
   "cell_type": "code",
   "execution_count": null,
   "id": "4404b8d6-07b9-48dd-ad2b-f20f8c6aa64a",
   "metadata": {},
   "outputs": [],
   "source": []
  }
 ],
 "metadata": {
  "kernelspec": {
   "display_name": "Python 3 (ipykernel)",
   "language": "python",
   "name": "python3"
  },
  "language_info": {
   "codemirror_mode": {
    "name": "ipython",
    "version": 3
   },
   "file_extension": ".py",
   "mimetype": "text/x-python",
   "name": "python",
   "nbconvert_exporter": "python",
   "pygments_lexer": "ipython3",
   "version": "3.12.3"
  }
 },
 "nbformat": 4,
 "nbformat_minor": 5
}
