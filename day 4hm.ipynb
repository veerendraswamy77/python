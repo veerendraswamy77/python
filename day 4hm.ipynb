{
 "cells": [
  {
   "cell_type": "code",
   "execution_count": 8,
   "id": "bd7aa924-eaee-4775-9f81-0f864b43c609",
   "metadata": {},
   "outputs": [
    {
     "name": "stdin",
     "output_type": "stream",
     "text": [
      "enter the temp deg in celsius 0\n"
     ]
    },
    {
     "name": "stdout",
     "output_type": "stream",
     "text": [
      "the Fahrenheit is  : 32.0\n"
     ]
    }
   ],
   "source": [
    "c=int(input(\"enter the temp deg in celsius\"))\n",
    "f=(c*9/5)+32\n",
    "print(\"the Fahrenheit is  :\",f)"
   ]
  },
  {
   "cell_type": "code",
   "execution_count": 1,
   "id": "bed33699-3e73-4d37-9249-4d4aed4ec294",
   "metadata": {},
   "outputs": [
    {
     "name": "stdout",
     "output_type": "stream",
     "text": [
      "12\n"
     ]
    }
   ],
   "source": [
    "l=[1,2,3,4,5,6]\n",
    "sum=0\n",
    "for n in l:\n",
    "    if n%2==0:\n",
    "        sum+=n\n",
    "print(sum)\n",
    "\n",
    "\n"
   ]
  },
  {
   "cell_type": "code",
   "execution_count": 2,
   "id": "f8134420-89e6-464f-9dda-d6854b37fa69",
   "metadata": {},
   "outputs": [
    {
     "name": "stdout",
     "output_type": "stream",
     "text": [
      "Number of vowels are:\n",
      "3\n"
     ]
    }
   ],
   "source": [
    "s=\"Hello world\"\n",
    "vowels = 0\n",
    "for char in s:\n",
    "    if char == 'a' or char == 'e' or char == 'i' or char == 'o' or char == 'u':\n",
    "        vowels += 1\n",
    "print(\"Number of vowels are:\")\n",
    "print(vowels)"
   ]
  },
  {
   "cell_type": "code",
   "execution_count": 2,
   "id": "3c3e1182-d31a-49f4-8b51-67963d95e1ab",
   "metadata": {},
   "outputs": [
    {
     "name": "stdout",
     "output_type": "stream",
     "text": [
      "50\n"
     ]
    }
   ],
   "source": [
    "l=[10,50,40,30,60]\n",
    "l.sort()\n",
    "print(l[-2])"
   ]
  },
  {
   "cell_type": "code",
   "execution_count": 1,
   "id": "f257cde2-cc7d-499c-8132-1bf62faeb5f6",
   "metadata": {},
   "outputs": [
    {
     "name": "stdout",
     "output_type": "stream",
     "text": [
      "Apple\n",
      "Banana\n",
      "Mango\n",
      "Grapes\n",
      "\n"
     ]
    },
    {
     "name": "stdin",
     "output_type": "stream",
     "text": [
      "Enter the fruit to be removed:  Apple\n",
      "Enter the fruit to be inserted:  pineapple\n"
     ]
    },
    {
     "name": "stdout",
     "output_type": "stream",
     "text": [
      "\n",
      "pineapple\n",
      "Banana\n",
      "Mango\n",
      "Grapes\n",
      "\n"
     ]
    }
   ],
   "source": [
    "import os\n",
    "fruits=['Apple','Banana','Mango','Grapes']\n",
    "with open(\"fruits.txt\",'w') as f:\n",
    "    for item in fruits:\n",
    "        f.write(item + \"\\n\")\n",
    "    f.close()\n",
    "with open('fruits.txt','r') as f:\n",
    "    print(f.read())\n",
    "    f.close()\n",
    "rm=input('Enter the fruit to be removed: ')\n",
    "ins=input('Enter the fruit to be inserted: ')\n",
    "contents=''\n",
    "with open(\"fruits.txt\",'r') as f:\n",
    "    contents=f.read()\n",
    "    newcontents=contents.replace(rm,ins) \n",
    "f.close()\n",
    "with open(\"fruits.txt\",'w') as f:\n",
    "    for item in newcontents.split():\n",
    "        f.write(item+'\\n')\n",
    "f.close()\n",
    "print()\n",
    "with open('fruits.txt','r') as f:\n",
    "    print(f.read())"
   ]
  },
  {
   "cell_type": "code",
   "execution_count": null,
   "id": "1e642672-dbe6-40db-9616-306aba6f9255",
   "metadata": {},
   "outputs": [],
   "source": [
    "str=\"helloo hi\"\n"
   ]
  }
 ],
 "metadata": {
  "kernelspec": {
   "display_name": "Python 3 (ipykernel)",
   "language": "python",
   "name": "python3"
  },
  "language_info": {
   "codemirror_mode": {
    "name": "ipython",
    "version": 3
   },
   "file_extension": ".py",
   "mimetype": "text/x-python",
   "name": "python",
   "nbconvert_exporter": "python",
   "pygments_lexer": "ipython3",
   "version": "3.12.3"
  }
 },
 "nbformat": 4,
 "nbformat_minor": 5
}
