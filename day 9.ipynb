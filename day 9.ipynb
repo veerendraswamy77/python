{
 "cells": [
  {
   "cell_type": "code",
   "execution_count": 20,
   "id": "5e590ca0-716e-44d0-a5bd-583e48f942c8",
   "metadata": {},
   "outputs": [
    {
     "name": "stdin",
     "output_type": "stream",
     "text": [
      " this is a bench\n"
     ]
    },
    {
     "name": "stdout",
     "output_type": "stream",
     "text": [
      "hcneb a si siht"
     ]
    }
   ],
   "source": [
    "#revese a string by stack\n",
    "st=input()\n",
    "s=[]\n",
    "for e in st:\n",
    "    s.append(e)\n",
    "\n",
    "while len(s)>0:\n",
    "    print(s.pop(),end=\"\")"
   ]
  },
  {
   "cell_type": "code",
   "execution_count": 21,
   "id": "b54cfdb7-f05f-4489-9b4c-3f539791038c",
   "metadata": {},
   "outputs": [
    {
     "name": "stdin",
     "output_type": "stream",
     "text": [
      " this is python\n"
     ]
    },
    {
     "name": "stdout",
     "output_type": "stream",
     "text": [
      "python is this "
     ]
    }
   ],
   "source": [
    "st=input()\n",
    "s=[]\n",
    "for e in st.split():\n",
    "    s.append(e)\n",
    "\n",
    "while len(s)>0:\n",
    "    print(s.pop(),end=\" \")\n",
    "\n",
    "    "
   ]
  },
  {
   "cell_type": "code",
   "execution_count": 40,
   "id": "a965be3b-2ce9-41fd-810d-ba2a452c69bf",
   "metadata": {},
   "outputs": [
    {
     "name": "stdin",
     "output_type": "stream",
     "text": [
      " (a+b)*c\n"
     ]
    },
    {
     "name": "stdout",
     "output_type": "stream",
     "text": [
      " ab+c*\n"
     ]
    }
   ],
   "source": [
    "def proc(e):\n",
    "    if e==\"^\":\n",
    "        return 3\n",
    "    elif e==\"*\" or e==\"/\":\n",
    "        return 2\n",
    "    elif e==\"+\" or e==\"-\":\n",
    "        return 1\n",
    "    else:\n",
    "        return -1\n",
    "def asoc(e):\n",
    "    if e=='^':\n",
    "        return R\n",
    "    else:\n",
    "        return L\n",
    "exp=input()\n",
    "s=[]\n",
    "st=\" \"\n",
    "result=\" \"\n",
    "for e in exp:\n",
    "    if e.isalnum()==True:\n",
    "        result+=e\n",
    "    elif e==\"(\":\n",
    "        s.append(e)\n",
    "    elif e==\")\":\n",
    "        while  s[-1]!='(':\n",
    "            result+=s.pop()\n",
    "        s.pop()\n",
    "    else:\n",
    "        while s and (proc(e)<proc(s[-1]) or (proc(e)==proc(s[-1]) and asoc(e)=='L')):\n",
    "            result+=s.pop()\n",
    "        s.append(e)\n",
    "while s:\n",
    "    result+=s.pop()\n",
    "\n",
    "print(result)\n"
   ]
  },
  {
   "cell_type": "code",
   "execution_count": 45,
   "id": "bfd71d8e-54eb-4cb3-8e8e-d8ca671d90cf",
   "metadata": {},
   "outputs": [
    {
     "name": "stdin",
     "output_type": "stream",
     "text": [
      " A D C R R A A D C D R R\n"
     ]
    },
    {
     "name": "stdout",
     "output_type": "stream",
     "text": [
      "['A', 'D', 'C', 'R', 'R', 'A', 'A', 'D', 'C', 'D', 'R', 'R']\n",
      "6 ['A', 'D', 'C', 'D', 'C', 'D']\n"
     ]
    }
   ],
   "source": [
    "a=[item for item in input().split()]\n",
    "print(a)\n",
    "s=[]\n",
    "for it    em in a:\n",
    "    if not s:\n",
    "        s.append(item)\n",
    "    elif s[-1]==item:\n",
    "        s.pop()\n",
    "    else:\n",
    "        s.append(item)\n",
    "print(len(s),s)\n",
    "        \n",
    "    \n"
   ]
  },
  {
   "cell_type": "code",
   "execution_count": null,
   "id": "44058539-f1e0-40e1-a171-56e9f080e0ac",
   "metadata": {},
   "outputs": [],
   "source": [
    "di={1:A,2:D,3:C,4:R,5:R,6:A,7:A}\n"
   ]
  }
 ],
 "metadata": {
  "kernelspec": {
   "display_name": "Python 3 (ipykernel)",
   "language": "python",
   "name": "python3"
  },
  "language_info": {
   "codemirror_mode": {
    "name": "ipython",
    "version": 3
   },
   "file_extension": ".py",
   "mimetype": "text/x-python",
   "name": "python",
   "nbconvert_exporter": "python",
   "pygments_lexer": "ipython3",
   "version": "3.12.3"
  }
 },
 "nbformat": 4,
 "nbformat_minor": 5
}
