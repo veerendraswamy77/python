{
 "cells": [
  {
   "cell_type": "code",
   "execution_count": 7,
   "id": "e0e27634-b7f4-4bb2-a7ea-f1b3e6d1f21c",
   "metadata": {},
   "outputs": [
    {
     "name": "stdout",
     "output_type": "stream",
     "text": [
      "car have 1000cc ka34567 100000 red topend 7 200\n",
      "truck have 910cc ka34768 10000000 white 12 10000\n"
     ]
    }
   ],
   "source": [
    "class vehicle:\n",
    "    def __init__(self,engine,regplate,price,colour):\n",
    "        self.engine=engine\n",
    "        self.regplate=regplate\n",
    "        self.price=price\n",
    "        self.colour=colour\n",
    "    \n",
    "class car(vehicle):\n",
    "     def __init__(self,engine,regplate,price,colour,Type,passengers,speed):\n",
    "         self.Type=Type\n",
    "         self.passengers=passengers\n",
    "         self.speed=speed\n",
    "         super().__init__(engine,regplate,price,colour)\n",
    "class truck(vehicle):\n",
    "     def __init__(self,engine,regplate,price,colour,axle,capacity):\n",
    "         self.axle=axle\n",
    "         self.capacity=capacity\n",
    "         super().__init__(engine,regplate,price,colour)\n",
    "c=car(\"1000cc\",\"ka34567\",100000,\"red\",\"topend\",7,200)\n",
    "t=truck(\"910cc\",\"ka34768\",10000000,\"white\",12,\"10000\")\n",
    "print(\"car have\",c.engine,c.regplate,c.price,c.colour,c.Type,c.passengers,c.speed)\n",
    "print(\"truck have\",t.engine,t.regplate,t.price,t.colour,t.axle,t.capacity)\n",
    "     \n",
    "    "
   ]
  },
  {
   "cell_type": "code",
   "execution_count": 10,
   "id": "218e765b-4b6e-4dd8-8bf0-43ebff8e3a6a",
   "metadata": {},
   "outputs": [
    {
     "name": "stdout",
     "output_type": "stream",
     "text": [
      "staff is 420 xyz1 100000 frontend 1st cross\n",
      "developer is 421 xyz2 10000000 frontend java 10years\n",
      "manager is 422 veerendra 10000000 airway vidyavathi\n"
     ]
    }
   ],
   "source": [
    "class employee:\n",
    "    def __init__(self,eid,ename,esalary):\n",
    "        self.eid=eid\n",
    "        self.ename=ename\n",
    "        self.esalary=esalary\n",
    "class staff(employee):\n",
    "    def __init__(self,eid,ename,esalary,work_type,work_area):\n",
    "         self.work_type=work_type\n",
    "         self.work_area=work_area\n",
    "         super().__init__(eid,ename,esalary)\n",
    "class developer(employee):\n",
    "    def __init__(self,eid,ename,esalary,module,tech,expirence):\n",
    "         self.module=module\n",
    "         self.tech=tech\n",
    "         self.expirence=expirence\n",
    "         super().__init__(eid,ename,esalary)\n",
    "class manager(employee):\n",
    "     def __init__(self,eid,ename,esalary,project,client_name):\n",
    "         self.project=project\n",
    "         self.client_name=client_name\n",
    "         super().__init__(eid,ename,esalary)\n",
    "s=staff(420,\"xyz1\",100000,\"frontend\",\"1st cross\")\n",
    "d=developer(421,\"xyz2\",10000000,\"frontend\",\"java\",\"10years\")\n",
    "m=manager(422,\"veerendra\",10000000,\"airway\",\"vidyavathi\")\n",
    "print(\"staff is\",s.eid,s.ename,s.esalary,s.work_type,s.work_area)\n",
    "print(\"developer is\",d.eid,d.ename,d.esalary,d.module,d.tech,d.expirence)\n",
    "print(\"manager is\",m.eid,m.ename,m.esalary,m.project,m.client_name)\n",
    "     \n",
    "\n",
    "    \n",
    "    "
   ]
  },
  {
   "cell_type": "code",
   "execution_count": 15,
   "id": "d62554c9-9d3a-47b9-bd5d-a14916fe7b42",
   "metadata": {},
   "outputs": [
    {
     "name": "stdin",
     "output_type": "stream",
     "text": [
      "enter the number 5\n"
     ]
    },
    {
     "name": "stdout",
     "output_type": "stream",
     "text": [
      "\n",
      " *\n",
      " * *\n",
      " * * *\n",
      " * * * *\n"
     ]
    }
   ],
   "source": [
    "x=int(input(\"enter the number\"))\n",
    "for i in range(x):\n",
    "          print(\" *\"*i)"
   ]
  },
  {
   "cell_type": "code",
   "execution_count": 34,
   "id": "c9c361af-1a8e-4c85-baa5-927efb2bb4ff",
   "metadata": {},
   "outputs": [
    {
     "name": "stdout",
     "output_type": "stream",
     "text": [
      "\n",
      "1 \n",
      "0 1 \n",
      "1 0 1 \n",
      "0 1 0 1 \n"
     ]
    }
   ],
   "source": [
    "for i in range(0,5):\n",
    "    for j in range(0,i):\n",
    "        if(i+j)%2==0:\n",
    "            print('0 ',end='')\n",
    "        else:\n",
    "            print('1 ',end='')\n",
    "    print()   "
   ]
  },
  {
   "cell_type": "code",
   "execution_count": null,
   "id": "77cbbd05-b69c-417a-8a50-7201c21cb1de",
   "metadata": {},
   "outputs": [],
   "source": [
    "l=[1,2,3,4,5]\n"
   ]
  }
 ],
 "metadata": {
  "kernelspec": {
   "display_name": "Python 3 (ipykernel)",
   "language": "python",
   "name": "python3"
  },
  "language_info": {
   "codemirror_mode": {
    "name": "ipython",
    "version": 3
   },
   "file_extension": ".py",
   "mimetype": "text/x-python",
   "name": "python",
   "nbconvert_exporter": "python",
   "pygments_lexer": "ipython3",
   "version": "3.12.3"
  }
 },
 "nbformat": 4,
 "nbformat_minor": 5
}
