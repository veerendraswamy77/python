{
 "cells": [
  {
   "cell_type": "code",
   "execution_count": 1,
   "id": "ff8482e7-a273-433e-b235-f66f1653a7f2",
   "metadata": {},
   "outputs": [
    {
     "name": "stdout",
     "output_type": "stream",
     "text": [
      "3\n",
      "<class 'int'>\n"
     ]
    }
   ],
   "source": [
    "a=3\n",
    "print(a)\n",
    "print(type(a))\n"
   ]
  },
  {
   "cell_type": "code",
   "execution_count": 3,
   "id": "ba975ccc-f621-4bc9-9499-14e01e3d76d6",
   "metadata": {},
   "outputs": [
    {
     "name": "stdout",
     "output_type": "stream",
     "text": [
      "5.555\n",
      "<class 'float'>\n"
     ]
    }
   ],
   "source": [
    "a=5.555\n",
    "print(a)\n",
    "print(type(a))"
   ]
  },
  {
   "cell_type": "code",
   "execution_count": 4,
   "id": "5f185948-36b5-477b-9f22-13ead3ac651e",
   "metadata": {},
   "outputs": [
    {
     "name": "stdout",
     "output_type": "stream",
     "text": [
      "ver\n",
      "<class 'str'>\n"
     ]
    }
   ],
   "source": [
    "a=\"ver\"\n",
    "print(a)\n",
    "print(type(a))"
   ]
  },
  {
   "cell_type": "code",
   "execution_count": 5,
   "id": "5bb2257e-98f3-4314-8aaf-0277ae1661aa",
   "metadata": {},
   "outputs": [
    {
     "name": "stdout",
     "output_type": "stream",
     "text": [
      "c\n",
      "<class 'str'>\n"
     ]
    }
   ],
   "source": [
    "a='c'\n",
    "print(a)\n",
    "print(type(a))"
   ]
  },
  {
   "cell_type": "code",
   "execution_count": 6,
   "id": "a742062c-0c64-450d-aac7-e8349ccffe6d",
   "metadata": {},
   "outputs": [
    {
     "name": "stdout",
     "output_type": "stream",
     "text": [
      "(2, 3)\n",
      "<class 'tuple'>\n"
     ]
    }
   ],
   "source": [
    "a=(2,3) \n",
    "print(a)\n",
    "print(type(a))"
   ]
  },
  {
   "cell_type": "code",
   "execution_count": 8,
   "id": "44df334c-1841-4ab9-acf7-1c5e724e50ca",
   "metadata": {},
   "outputs": [
    {
     "name": "stdout",
     "output_type": "stream",
     "text": [
      "{2: 'dfdf', 3: 'ww'}\n",
      "<class 'dict'>\n"
     ]
    }
   ],
   "source": [
    "a={2:'dfdf',3:'ww'}\n",
    "print(a)\n",
    "print(type(a))\n",
    "\n",
    "\n"
   ]
  },
  {
   "cell_type": "code",
   "execution_count": 25,
   "id": "15e2e9dd-e751-4ce4-b9a3-2e59821fdbb7",
   "metadata": {},
   "outputs": [
    {
     "name": "stdin",
     "output_type": "stream",
     "text": [
      "enter two num: 2 3\n"
     ]
    },
    {
     "name": "stdout",
     "output_type": "stream",
     "text": [
      "add 5\n",
      "sub -1\n",
      "mul 6\n",
      "mod 2\n",
      "div 0.6666666666666666\n"
     ]
    }
   ],
   "source": [
    "a,b=input(\"enter two num:\").split()\n",
    "c=int(a)+int(b)\n",
    "print('add',c)\n",
    "d=int(a)-int(b)\n",
    "print('sub',d)\n",
    "e=int(a)*int(b)\n",
    "print('mul',e)\n",
    "f=int(a)%int(b)\n",
    "print('mod',f)\n",
    "g=int(a)/int(b)\n",
    "print('div',g)\n",
    "\n"
   ]
  },
  {
   "cell_type": "code",
   "execution_count": 8,
   "id": "dcac0b52-482c-48f1-a4e0-63abddc61a54",
   "metadata": {},
   "outputs": [
    {
     "name": "stdin",
     "output_type": "stream",
     "text": [
      "enter name: veer\n",
      "enter age: 2\n"
     ]
    },
    {
     "name": "stdout",
     "output_type": "stream",
     "text": [
      "veer\n",
      "u are not elegible\n"
     ]
    }
   ],
   "source": [
    "name=input(\"enter name:\")\n",
    "age=int(input(\"enter age:\"))\n",
    "\n",
    "if age>=18:\n",
    "     print(name)\n",
    "     print(\"u are elegible\")\n",
    "else:\n",
    "        print(name)\n",
    "        print(\"u are not elegible\")\n",
    "        "
   ]
  },
  {
   "cell_type": "code",
   "execution_count": null,
   "id": "f2c93b64-1c77-4d8c-8575-cd028dae5cb3",
   "metadata": {},
   "outputs": [],
   "source": [
    "a=int(input())\n",
    "b=int(input())\n",
    "c=int(input())\n",
    "\n",
    "if a>b:\n",
    "   if a>c:\n",
    "       {\n",
    "    print(\"a is largest\")\n",
    "       }\n",
    "   else:\n",
    "       print(\"c is largest\")\n",
    "else:\n",
    "     if b>c:\n",
    "       print(\"b is largest\")\n",
    "     else:\n",
    "       print(\"c is largest\")\n",
    "    \n",
    "       "
   ]
  },
  {
   "cell_type": "code",
   "execution_count": 15,
   "id": "8dfb0bd0-8e5d-41fb-8538-9919146ecbfa",
   "metadata": {},
   "outputs": [
    {
     "name": "stdin",
     "output_type": "stream",
     "text": [
      "enter your marks: 12\n"
     ]
    },
    {
     "name": "stdout",
     "output_type": "stream",
     "text": [
      "fail\n"
     ]
    }
   ],
   "source": [
    "marks=int(input(\"enter your marks:\"))\n",
    "if marks>=90 and marks<=100:\n",
    "    print(\"grade=A+\")\n",
    "else:\n",
    "    if marks>80 and marks<90:\n",
    "        print(\"grade=A\")\n",
    "    else:\n",
    "         if marks>70 and marks<80:\n",
    "            print(\"grade=B+\")\n",
    "         else:\n",
    "               if marks>60 and marks<70:\n",
    "                    print(\"grade=B\")\n",
    "               else:\n",
    "                         if marks>50 and marks<60:\n",
    "                           print(\"grade=C+\")\n",
    "                         else:\n",
    "                                  if marks>40 and marks<50:\n",
    "                                    print(\"grade=D\")\n",
    "                                  else:\n",
    "                                            if marks>30 and marks<40:\n",
    "                                               print(\"grade=E\")\n",
    "                                            else:\n",
    "                                                print(\"fail\")\n",
    "        \n",
    "        \n",
    "        \n",
    "         \n",
    "    "
   ]
  },
  {
   "cell_type": "code",
   "execution_count": 17,
   "id": "71a5a0f1-f263-4ae0-b6d9-193c05dcc1c1",
   "metadata": {},
   "outputs": [
    {
     "name": "stdin",
     "output_type": "stream",
     "text": [
      "enter your marks: 91\n"
     ]
    },
    {
     "name": "stdout",
     "output_type": "stream",
     "text": [
      "grade=A+\n"
     ]
    }
   ],
   "source": [
    "marks=int(input(\"enter your marks:\"))\n",
    "if marks>=90 and marks<=100:\n",
    "    print(\"grade=A+\")\n",
    "elif marks>=80 and marks<=90:\n",
    "    print(\"grade=A\")\n",
    "elif marks>=80 and marks<=90:\n",
    "    print(\"grade=B+\") "
   ]
  },
  {
   "cell_type": "code",
   "execution_count": 28,
   "id": "ee757c12-64ed-4760-96a2-395b024e9f02",
   "metadata": {},
   "outputs": [
    {
     "ename": "SyntaxError",
     "evalue": "invalid syntax (2869230202.py, line 10)",
     "output_type": "error",
     "traceback": [
      "\u001b[1;36m  Cell \u001b[1;32mIn[28], line 10\u001b[1;36m\u001b[0m\n\u001b[1;33m    case _if day==10:\u001b[0m\n\u001b[1;37m             ^\u001b[0m\n\u001b[1;31mSyntaxError\u001b[0m\u001b[1;31m:\u001b[0m invalid syntax\n"
     ]
    }
   ],
   "source": [
    "day=int(input(\"enter th day num\"))\n",
    "match day:\n",
    " case 1:print(\"sun\")\n",
    " case 2:print(\"mon\")\n",
    " case 3:print(\"tue\")\n",
    " case 4:print(\"wed\")\n",
    " case 5:print(\"thur\")\n",
    " case 6:print(\"fri\")\n",
    " case 7:print(\"sat\")\n",
    " case _if day==10:\n",
    "    print(\"ten\")\n"
   ]
  },
  {
   "cell_type": "code",
   "execution_count": 30,
   "id": "9349e0f9-5a4f-4707-8c5d-3bd1861da9d3",
   "metadata": {},
   "outputs": [
    {
     "name": "stdout",
     "output_type": "stream",
     "text": [
      "1\n",
      "2\n",
      "3\n",
      "4\n",
      "5\n",
      "6\n",
      "7\n",
      "8\n",
      "9\n"
     ]
    }
   ],
   "source": [
    "for x in range(1,10):\n",
    "    print(x)\n"
   ]
  },
  {
   "cell_type": "code",
   "execution_count": 2,
   "id": "c75138bb-39e9-4c76-a4ab-b1d92ac4f4b1",
   "metadata": {},
   "outputs": [
    {
     "name": "stdout",
     "output_type": "stream",
     "text": [
      "\n",
      " *\n",
      " * *\n",
      " * * *\n",
      " * * * *\n",
      " * * * * *\n",
      " * * * * * *\n",
      " * * * * * * *\n",
      " * * * * * * * *\n",
      " * * * * * * * * *\n"
     ]
    }
   ],
   "source": [
    " "
   ]
  },
  {
   "cell_type": "code",
   "execution_count": 1,
   "id": "4ba2a292-30aa-494e-ba62-6def2f860050",
   "metadata": {
    "scrolled": true
   },
   "outputs": [
    {
     "name": "stdout",
     "output_type": "stream",
     "text": [
      "\n",
      " *\n",
      " * *\n",
      " * * *\n",
      " * * * *\n",
      " * * * * *\n",
      " * * * * * *\n",
      " * * * * * * *\n",
      " * * * * * * * *\n",
      " * * * * * * * * *\n"
     ]
    }
   ],
   "source": [
    "for i in range(10):\n",
    "          print(\" *\"*i)"
   ]
  },
  {
   "cell_type": "code",
   "execution_count": 9,
   "id": "369a5bdf-480c-40dc-bc5d-56d083faa460",
   "metadata": {},
   "outputs": [
    {
     "name": "stdin",
     "output_type": "stream",
     "text": [
      "enter num 5\n"
     ]
    },
    {
     "name": "stdout",
     "output_type": "stream",
     "text": [
      "0 1 1 2 3 "
     ]
    }
   ],
   "source": [
    "n=int(input(\"enter num\"))\n",
    "a=0\n",
    "b=1\n",
    "print(a,b,end=\" \")\n",
    "for x in range(0,n-2):\n",
    "    c=a+b\n",
    "    print(c,end=\" \")\n",
    "    a=b\n",
    "    b=c"
   ]
  },
  {
   "cell_type": "markdown",
   "id": "82b658e7-24e0-42b7-b085-59daba8349d6",
   "metadata": {},
   "source": [
    "a=[1,2,3,4,5,6]\n",
    "for x in a:\n",
    "    print(x)"
   ]
  },
  {
   "cell_type": "code",
   "execution_count": 11,
   "id": "4bf452e1-1d49-4d43-92b1-86c391943039",
   "metadata": {},
   "outputs": [
    {
     "name": "stdout",
     "output_type": "stream",
     "text": [
      "1\n",
      "2\n",
      "3\n",
      "4\n",
      "5\n",
      "6\n",
      "7\n"
     ]
    }
   ],
   "source": [
    "a=[1,2,3,4,5,6,7]\n",
    "for x in range(0,7):\n",
    "    print(a[x])"
   ]
  },
  {
   "cell_type": "markdown",
   "id": "cd30e7ff-09c1-4e97-9d7f-7f715a988dff",
   "metadata": {},
   "source": [
    "pop to pull out the element\n",
    "sort use to sort th list\n",
    "append object to the end of the list\n",
    "extend the list by appending the elements\n",
    "index will return of the idec]x from the menu\n",
    "count return the occurance of object\n",
    "insert object before index\n",
    "\n"
   ]
  },
  {
   "cell_type": "code",
   "execution_count": 35,
   "id": "49171ed7-00a7-4246-9e4b-6c5a8cff66d1",
   "metadata": {},
   "outputs": [
    {
     "name": "stdout",
     "output_type": "stream",
     "text": [
      "[1, 2, 3, 4, 5, 6]\n",
      "4\n",
      "[1, 2, 3, 6]\n",
      "[1, 2, 3, 6, 10]\n",
      "2\n",
      "1\n",
      "[1, 2, 3, 6, 10, 1]\n",
      "2\n",
      "[1, 2, 3, 6, 10, 1]\n",
      "[10, 6, 3, 2, 1, 1]\n",
      "[10, 6, 3, 2, 1, 1, 1, 2, 3, 4, 5, 6]\n"
     ]
    }
   ],
   "source": [
    "a=[1,2,3,4,5,6]\n",
    "b=a.copy()\n",
    "print(b)\n",
    "c=b.pop(3)\n",
    "print(c)\n",
    "c=b.pop(3)\n",
    "print(b)\n",
    "b.append(10)\n",
    "print(b)\n",
    "print(b.index(3))\n",
    "print(b.count(3))\n",
    "b.append(1)\n",
    "print(b)\n",
    "print(b.count(1))\n",
    "b.sort\n",
    "print(b)\n",
    "b.sort(reverse=True)\n",
    "print(b)\n",
    "b.extend(a)\n",
    "print(b)"
   ]
  },
  {
   "cell_type": "code",
   "execution_count": 44,
   "id": "0f29e6a8-1557-4de8-b755-7d36a7b094cc",
   "metadata": {},
   "outputs": [
    {
     "name": "stdin",
     "output_type": "stream",
     "text": [
      "enter elem in list: 1 2 3\n"
     ]
    },
    {
     "name": "stdout",
     "output_type": "stream",
     "text": [
      "['1', '2', '3']\n"
     ]
    }
   ],
   "source": [
    "l=[item for item in (input(\"enter elem in list:\").split())]\n",
    "print(l)"
   ]
  },
  {
   "cell_type": "code",
   "execution_count": 63,
   "id": "2577872d-f33a-4cdf-9a59-1245d1b9cc14",
   "metadata": {},
   "outputs": [
    {
     "name": "stdout",
     "output_type": "stream",
     "text": [
      "5\n",
      "4\n",
      "3\n",
      "2\n",
      "1\n"
     ]
    }
   ],
   "source": [
    "l=[1,2,3,4,5]\n",
    "for x in range(-1,-1*(len(l)+1),-1):\n",
    "    print(l[x])\n"
   ]
  },
  {
   "cell_type": "markdown",
   "id": "5596ee06-e3ff-4aa0-b7dd-93845ae4f7ff",
   "metadata": {},
   "source": [
    "write aprogram  key and value and add in to the dictoanry if key is not present in dictionary otherwise print key already exist and also print print its corresponding value"
   ]
  },
  {
   "cell_type": "code",
   "execution_count": 62,
   "id": "311ce191-cd28-493f-9cdf-ad2bef52e66e",
   "metadata": {},
   "outputs": [
    {
     "name": "stdout",
     "output_type": "stream",
     "text": [
      "dict_values(['veer', 'sed'])\n",
      "None\n"
     ]
    }
   ],
   "source": [
    "d={1:\"veer\",2:\"sed\"}\n",
    "print(d.values())\n",
    "print(d.get(3))"
   ]
  },
  {
   "cell_type": "code",
   "execution_count": 1,
   "id": "fac49267-2e12-4cb5-9028-be99b42891d9",
   "metadata": {},
   "outputs": [
    {
     "name": "stdin",
     "output_type": "stream",
     "text": [
      " 12\n",
      " 1\n"
     ]
    },
    {
     "name": "stdout",
     "output_type": "stream",
     "text": [
      "zero errror\n",
      "error handeled\n"
     ]
    }
   ],
   "source": [
    "a=[input().split()]\n",
    "b=[input().split()]\n",
    "try:\n",
    "    c=a/b                        \n",
    "except:\n",
    "    print(\"zero errror\")\n",
    "finally:\n",
    "    print(\"error handeled\")\n",
    "    \n"
   ]
  },
  {
   "cell_type": "code",
   "execution_count": 10,
   "id": "de15f2fb-cddd-45f1-921c-fa17c50efec3",
   "metadata": {},
   "outputs": [
    {
     "name": "stdin",
     "output_type": "stream",
     "text": [
      "enter key 1\n"
     ]
    },
    {
     "name": "stdout",
     "output_type": "stream",
     "text": [
      "2\n"
     ]
    }
   ],
   "source": [
    "l=[1,2,3,4,5,6,7]\n",
    "i=int(input(\"enter key\"))\n",
    "try:\n",
    "    print(l[i])\n",
    "except:\n",
    "    print(\"it cannot be handled\")\n",
    "    \n"
   ]
  },
  {
   "cell_type": "code",
   "execution_count": 11,
   "id": "403b85c8-7c4a-4072-8565-13a41b9a73fc",
   "metadata": {},
   "outputs": [
    {
     "name": "stdin",
     "output_type": "stream",
     "text": [
      " 1\n",
      " 2\n"
     ]
    },
    {
     "name": "stdout",
     "output_type": "stream",
     "text": [
      "no error\n",
      "code done\n"
     ]
    }
   ],
   "source": [
    "try:\n",
    "    a=input()\n",
    "    b=input()\n",
    "    c=int(a)/int(b)\n",
    "except valueerror:\n",
    "    print(\"value error\")\n",
    "except zerodivisonerror:\n",
    "    print(\"cannot divide by zero\")\n",
    "except:\n",
    "    print(\"some unknown eroor found\")\n",
    "else:\n",
    "    print(\"no error\")\n",
    "finally:\n",
    "    print(\"code done\")"
   ]
  },
  {
   "cell_type": "markdown",
   "id": "6e9652af-266c-4c8b-a7c3-e71e960a1c50",
   "metadata": {},
   "source": [
    "1.write a python program to find sum of all the elements in the list and enter the case with non numeric\n",
    "2.create  a dictonary with student name and  "
   ]
  },
  {
   "cell_type": "code",
   "execution_count": 17,
   "id": "b344ed4a-6dc8-48d4-aa35-dc2cf8606b86",
   "metadata": {},
   "outputs": [
    {
     "name": "stdout",
     "output_type": "stream",
     "text": [
      "non numeric\n"
     ]
    }
   ],
   "source": [
    "l=[1,2,3,4,5,6,\"veer\",\"swam\"]\n",
    "try:\n",
    "    print(int(sum(l)))\n",
    "except:\n",
    "    print(\"non "
   ]
  },
  {
   "cell_type": "code",
   "execution_count": 8,
   "id": "4eb6cfac-e670-473d-b7c2-540e9aedc833",
   "metadata": {},
   "outputs": [
    {
     "name": "stdin",
     "output_type": "stream",
     "text": [
      " 121\n"
     ]
    },
    {
     "name": "stdout",
     "output_type": "stream",
     "text": [
      "not palindrome\n"
     ]
    }
   ],
   "source": [
    "#palindrome\n",
    "n=int(input())\n",
    "m=n\n",
    "rev=0\n",
    "while n>0:\n",
    "    rem=n%10\n",
    "    rev=rev*10+rem\n",
    "    n=n/10\n",
    "if m==rev:\n",
    "    print(\"palindrome\")\n",
    "else:\n",
    "    print(\"not palindrome\")"
   ]
  },
  {
   "cell_type": "code",
   "execution_count": 55,
   "id": "fc78a5d9-8b7d-4365-a5f3-9109a557f519",
   "metadata": {},
   "outputs": [
    {
     "name": "stdin",
     "output_type": "stream",
     "text": [
      " 9\n"
     ]
    },
    {
     "name": "stdout",
     "output_type": "stream",
     "text": [
      "not prime\n"
     ]
    }
   ],
   "source": [
    "#prime\n",
    "x=int(input())\n",
    "for i in range(2,int(x/2)):\n",
    "    if x % i == 0:\n",
    "        prime = False\n",
    "        print(\"not prime\")\n",
    "        break\n",
    "else:\n",
    "     print(\"prime\")\n",
    "         "
   ]
  },
  {
   "cell_type": "code",
   "execution_count": 56,
   "id": "cba703ac-db2c-41d6-baf7-75506f2edd03",
   "metadata": {},
   "outputs": [
    {
     "name": "stdout",
     "output_type": "stream",
     "text": [
      "[1, 2, 3, 4, 5]\n"
     ]
    }
   ],
   "source": [
    "a=[3,1,4,2,5]\n",
    "for i in range(len(a)):\n",
    "    for j in range(i+1,len(a)):\n",
    "        if a[i]>a[j]:\n",
    "            a[i],a[j]=a[j],a[i]\n",
    "print(a)"
   ]
  },
  {
   "cell_type": "code",
   "execution_count": 8,
   "id": "5572bf3c-7fbf-43e2-a1af-9a217d4d2903",
   "metadata": {},
   "outputs": [
    {
     "ename": "SyntaxError",
     "evalue": "invalid syntax (2795842332.py, line 2)",
     "output_type": "error",
     "traceback": [
      "\u001b[1;36m  Cell \u001b[1;32mIn[8], line 2\u001b[1;36m\u001b[0m\n\u001b[1;33m    if__name__=='__main__':\u001b[0m\n\u001b[1;37m                          ^\u001b[0m\n\u001b[1;31mSyntaxError\u001b[0m\u001b[1;31m:\u001b[0m invalid syntax\n"
     ]
    }
   ],
   "source": [
    "import os\n",
    "ifmname__=='__main__':\n",
    "    filename =\"example.txt\"\n",
    "    new_filename=\"new_example.txt\"\n",
    "    create_file(filename)\n",
    "    read_file(filename,\"this is some additional text.\\n\")\n",
    "    "
   ]
  },
  {
   "cell_type": "code",
   "execution_count": 5,
   "id": "28f72e26-9c20-4a9f-965c-0e6b380ed866",
   "metadata": {},
   "outputs": [
    {
     "name": "stdout",
     "output_type": "stream",
     "text": [
      "\n",
      "233\n"
     ]
    }
   ],
   "source": [
    "import os\n",
    "with open(\"file1.txt\",'r')as f:\n",
    "    for a in f.read().split(\"\\n\"):\n",
    "        print(a)\n",
    "        print(\"233\")\n",
    "    f.close()"
   ]
  },
  {
   "cell_type": "code",
   "execution_count": 23,
   "id": "25fc42d0-35a1-4514-93d8-48a3a0d18354",
   "metadata": {},
   "outputs": [],
   "source": [
    "import os\n",
    "with open(\"file2.txt\", 'w') as f:\n",
    "    f.write(\"hello\")\n",
    "    f.close()\n",
    "with open(\"file2.txt\",'a') as f:\n",
    "    f.write(\"file is appending\")   \n",
    "    f.close()\n"
   ]
  },
  {
   "cell_type": "code",
   "execution_count": null,
   "id": "6d92baea-8fac-4317-8e41-0397286cd38a",
   "metadata": {},
   "outputs": [],
   "source": []
  },
  {
   "cell_type": "code",
   "execution_count": null,
   "id": "e0140323-9d8d-4842-a34c-9f6956631c34",
   "metadata": {},
   "outputs": [],
   "source": []
  }
 ],
 "metadata": {
  "kernelspec": {
   "display_name": "Python 3 (ipykernel)",
   "language": "python",
   "name": "python3"
  },
  "language_info": {
   "codemirror_mode": {
    "name": "ipython",
    "version": 3
   },
   "file_extension": ".py",
   "mimetype": "text/x-python",
   "name": "python",
   "nbconvert_exporter": "python",
   "pygments_lexer": "ipython3",
   "version": "3.12.3"
  }
 },
 "nbformat": 4,
 "nbformat_minor": 5
}
